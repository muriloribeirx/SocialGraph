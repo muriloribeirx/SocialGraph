{
 "cells": [
  {
   "cell_type": "markdown",
   "id": "1005aa39",
   "metadata": {},
   "source": [
    "## Importacao das Bibliotecas utilizadas"
   ]
  },
  {
   "cell_type": "code",
   "execution_count": null,
   "id": "de1536e6",
   "metadata": {},
   "outputs": [],
   "source": [
    "import pandas as pd\n",
    "import networkx as nx\n",
    "import matplotlib.pyplot as plt\n",
    "\n",
    "%matplotlib inline\n",
    "\n",
    "from networkx.algorithms.community import greedy_modularity_communities\n",
    "from pyvis.network import Network"
   ]
  },
  {
   "cell_type": "markdown",
   "id": "568dc7ea",
   "metadata": {},
   "source": [
    "## Leitura da base de dados"
   ]
  },
  {
   "cell_type": "code",
   "execution_count": null,
   "id": "8553863a",
   "metadata": {},
   "outputs": [],
   "source": [
    "df = pd.read_csv(\"Database/hero-network.csv\")\n",
    "df.head()"
   ]
  },
  {
   "cell_type": "markdown",
   "id": "7f36f6c2",
   "metadata": {},
   "source": [
    "## Criação do grafo"
   ]
  },
  {
   "cell_type": "code",
   "execution_count": null,
   "id": "f39f09e6",
   "metadata": {},
   "outputs": [],
   "source": [
    "G = nx.from_pandas_edgelist(df, source=\"hero1\", target=\"hero2\")\n",
    "\n",
    "print(\"Número de pessoas (nós):\", G.number_of_nodes())\n",
    "print(\"Número de conexões (arestas):\", G.number_of_edges())"
   ]
  },
  {
   "cell_type": "markdown",
   "id": "e1378ce7",
   "metadata": {},
   "source": [
    "## Análise básica"
   ]
  },
  {
   "cell_type": "code",
   "execution_count": null,
   "id": "81594401",
   "metadata": {},
   "outputs": [],
   "source": [
    "# Graus (número de conexões por pessoa)\n",
    "graus = dict(G.degree())\n",
    "print(\"\\nTop 5 pessoas mais conectadas:\")\n",
    "for pessoa, grau in sorted(graus.items(), key=lambda x: x[1], reverse=True)[:5]:\n",
    "    print(f\"{pessoa}: {grau} conexões\")\n",
    "\n",
    "# Componentes conectados\n",
    "componentes = list(nx.connected_components(G))\n",
    "print(f\"\\nNúmero de grupos desconectados: {len(componentes)}\")\n",
    "\n",
    "# Centralidade (quem é mais \"importante\" na rede)\n",
    "centralidade = nx.degree_centrality(G)\n",
    "mais_central = max(centralidade, key=centralidade.get)\n",
    "print(f\"\\nPessoa mais central na rede: {mais_central}\")"
   ]
  },
  {
   "cell_type": "markdown",
   "id": "139696ff",
   "metadata": {},
   "source": [
    "## Visualização"
   ]
  },
  {
   "cell_type": "code",
   "execution_count": null,
   "id": "d75882fe",
   "metadata": {},
   "outputs": [],
   "source": [
    "plt.figure(figsize=(10, 8))\n",
    "pos = nx.spring_layout(G, seed=42)  # Posição fixa para layout estável\n",
    "nx.draw(\n",
    "    G, pos,\n",
    "    with_labels=True,\n",
    "    node_size=600,\n",
    "    node_color=\"skyblue\",\n",
    "    edge_color=\"gray\",\n",
    "    font_size=9\n",
    ")\n",
    "plt.title(\"Rede de ligações entre pessoas\")\n",
    "plt.show()\n"
   ]
  },
  {
   "cell_type": "code",
   "execution_count": null,
   "id": "19a0ed2a",
   "metadata": {},
   "outputs": [],
   "source": [
    "# net = Network(notebook=True, height=\"600px\", width=\"100%\")\n",
    "# net.from_nx(G)\n",
    "# net.show(\"rede.html\")"
   ]
  },
  {
   "cell_type": "markdown",
   "id": "69f4cc75",
   "metadata": {},
   "source": [
    "# Comunidades"
   ]
  },
  {
   "cell_type": "code",
   "execution_count": null,
   "id": "6c99f866",
   "metadata": {},
   "outputs": [],
   "source": [
    "\n",
    "# Detectar comunidades\n",
    "comunidades = list(greedy_modularity_communities(G))\n",
    "\n",
    "# Mostrar algumas informações\n",
    "print(f\"Número de comunidades detectadas: {len(comunidades)}\\n\")\n",
    "\n",
    "for i, c in enumerate(comunidades, 1):\n",
    "    print(f\"Comunidade {i} ({len(c)} pessoas): {list(c)[:10]} ...\")  # mostra só os 10 primeiros\n"
   ]
  },
  {
   "cell_type": "code",
   "execution_count": null,
   "id": "a2ea1260",
   "metadata": {},
   "outputs": [],
   "source": [
    "# Atribuir cores diferentes para cada comunidade\n",
    "cores = ['skyblue', 'lightgreen', 'salmon', 'orange', 'purple', 'yellow', 'pink', 'lightgrey']\n",
    "\n",
    "plt.figure(figsize=(12, 8))\n",
    "pos = nx.spring_layout(G, seed=42)\n",
    "\n",
    "for i, c in enumerate(comunidades):\n",
    "    nx.draw_networkx_nodes(G, pos, nodelist=c, node_color=cores[i % len(cores)], label=f\"Com. {i+1}\")\n",
    "\n",
    "nx.draw_networkx_edges(G, pos, alpha=0.5)\n",
    "nx.draw_networkx_labels(G, pos, font_size=9)\n",
    "plt.title(\"Comunidades na rede\")\n",
    "plt.legend()\n",
    "plt.show()\n"
   ]
  }
 ],
 "metadata": {
  "kernelspec": {
   "display_name": "Python 3",
   "language": "python",
   "name": "python3"
  },
  "language_info": {
   "codemirror_mode": {
    "name": "ipython",
    "version": 3
   },
   "file_extension": ".py",
   "mimetype": "text/x-python",
   "name": "python",
   "nbconvert_exporter": "python",
   "pygments_lexer": "ipython3",
   "version": "3.11.9"
  }
 },
 "nbformat": 4,
 "nbformat_minor": 5
}
